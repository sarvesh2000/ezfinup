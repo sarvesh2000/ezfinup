{
  "nbformat": 4,
  "nbformat_minor": 0,
  "metadata": {
    "colab": {
      "name": "Reliance Prediction",
      "provenance": [],
      "collapsed_sections": [],
      "authorship_tag": "ABX9TyM0ZckWqaStxf3Jp8ETRrA0",
      "include_colab_link": true
    },
    "kernelspec": {
      "name": "python3",
      "display_name": "Python 3"
    },
    "accelerator": "GPU"
  },
  "cells": [
    {
      "cell_type": "markdown",
      "metadata": {
        "id": "view-in-github",
        "colab_type": "text"
      },
      "source": [
        "<a href=\"https://colab.research.google.com/github/sarvesh2000/ezfinup/blob/vaishnav/Reliance_Prediction.ipynb\" target=\"_parent\"><img src=\"https://colab.research.google.com/assets/colab-badge.svg\" alt=\"Open In Colab\"/></a>"
      ]
    },
    {
      "cell_type": "code",
      "metadata": {
        "id": "s9ClIjupapJx"
      },
      "source": [
        "### Data Collection\n",
        "import pandas_datareader as pdr\n",
        "import matplotlib.pyplot as plt\n",
        "import pandas as pd\n",
        "from sklearn.preprocessing import MinMaxScaler\n",
        "import numpy as np\n",
        "key=\"483bd89d87mshce534f1bd4ba6b0p182fcdjsnf08d8fc19c04\""
      ],
      "execution_count": 1,
      "outputs": []
    },
    {
      "cell_type": "code",
      "metadata": {
        "id": "IHB7k0ZEcZkz"
      },
      "source": [
        "df = pdr.get_data_yahoo('RELIANCE.NS')\n",
        "df1 = df. reset_index()['Close']\n",
        "  "
      ],
      "execution_count": 2,
      "outputs": []
    },
    {
      "cell_type": "markdown",
      "metadata": {
        "id": "Mhz-QHocTivz"
      },
      "source": [
        ""
      ]
    },
    {
      "cell_type": "markdown",
      "metadata": {
        "id": "mtnX6sOzTisa"
      },
      "source": [
        ""
      ]
    },
    {
      "cell_type": "code",
      "metadata": {
        "id": "Ch0_VLV5eOQQ"
      },
      "source": [
        "\n",
        "scaler=MinMaxScaler(feature_range=(0,1))\n",
        "df1=scaler.fit_transform(np.array(df1).reshape(-1,1))"
      ],
      "execution_count": 3,
      "outputs": []
    },
    {
      "cell_type": "code",
      "metadata": {
        "id": "eptzGx1se8sc"
      },
      "source": [
        "training_size=int(len(df1)*0.65)\n",
        "test_size=len(df1)-training_size\n",
        "train_data,test_data=df1[0:training_size,:],df1[training_size:len(df1),:1]"
      ],
      "execution_count": 4,
      "outputs": []
    },
    {
      "cell_type": "code",
      "metadata": {
        "id": "_T0TrWlVgTc-"
      },
      "source": [
        "import numpy\n",
        "# convert an array of values into a dataset matrix\n",
        "def create_dataset(dataset, time_step=1):\n",
        "\tdataX, dataY = [], []\n",
        "\tfor i in range(len(dataset)-time_step-1):\n",
        "\t\ta = dataset[i:(i+time_step), 0]   ###i=0, 0,1,2,3-----99   100 \n",
        "\t\tdataX.append(a)\n",
        "\t\tdataY.append(dataset[i + time_step, 0])\n",
        "\treturn numpy.array(dataX), numpy.array(dataY)"
      ],
      "execution_count": 5,
      "outputs": []
    },
    {
      "cell_type": "code",
      "metadata": {
        "id": "IbEpLvDUhxb3"
      },
      "source": [
        "time_step = 100\n",
        "X_train, y_train = create_dataset(train_data, time_step)\n",
        "X_test, ytest = create_dataset(test_data, time_step)"
      ],
      "execution_count": 6,
      "outputs": []
    },
    {
      "cell_type": "code",
      "metadata": {
        "id": "tuyBTz4sjGyy"
      },
      "source": [
        "# reshape input to be [samples, time steps, features] which is required for LSTM\n",
        "X_train =X_train.reshape(X_train.shape[0],X_train.shape[1] , 1)\n",
        "X_test = X_test.reshape(X_test.shape[0],X_test.shape[1] , 1)"
      ],
      "execution_count": 7,
      "outputs": []
    },
    {
      "cell_type": "code",
      "metadata": {
        "id": "AGPsq-YfjjSL"
      },
      "source": [
        "### Create the Stacked LSTM model\n",
        "import tensorflow as tf\n",
        "import numpy as np\n",
        "from tensorflow import keras\n",
        "from tensorflow.keras.models import Sequential\n",
        "from tensorflow.keras.layers import Dense\n",
        "from tensorflow.keras.layers import LSTM"
      ],
      "execution_count": 8,
      "outputs": []
    },
    {
      "cell_type": "code",
      "metadata": {
        "id": "0XurtcezkKRg"
      },
      "source": [
        "model = tf.keras.Sequential([keras.layers.Dense(units=1, input_shape=[1])])\n",
        "model=Sequential()\n",
        "model.add(LSTM(50,return_sequences=True,input_shape=(100,1)))\n",
        "model.add(LSTM(50,return_sequences=True))\n",
        "model.add(LSTM(50,return_sequences=True))\n",
        "model.add(LSTM(50,return_sequences=True))\n",
        "#adding new lstm\n",
        "\n",
        "model.add(LSTM(50))\n",
        "\n",
        "\n",
        "model.add(Dense(1))\n",
        "model.compile(loss='mean_squared_error',optimizer='adam',metrics=['accuracy'])"
      ],
      "execution_count": 9,
      "outputs": []
    },
    {
      "cell_type": "code",
      "metadata": {
        "id": "_qHoH4H1k0ch",
        "colab": {
          "base_uri": "https://localhost:8080/"
        },
        "outputId": "0ffa248f-ebff-461e-be18-e632d911bda2"
      },
      "source": [
        "model.fit(X_train,y_train,validation_data=(X_test,ytest),epochs=50,batch_size=10,verbose=2)"
      ],
      "execution_count": 10,
      "outputs": [
        {
          "output_type": "stream",
          "text": [
            "Epoch 1/50\n",
            "70/70 - 10s - loss: 0.0041 - accuracy: 0.0000e+00 - val_loss: 0.0136 - val_accuracy: 0.0030\n",
            "Epoch 2/50\n",
            "70/70 - 1s - loss: 8.8460e-04 - accuracy: 0.0000e+00 - val_loss: 0.0105 - val_accuracy: 0.0030\n",
            "Epoch 3/50\n",
            "70/70 - 2s - loss: 8.2543e-04 - accuracy: 0.0000e+00 - val_loss: 0.0159 - val_accuracy: 0.0030\n",
            "Epoch 4/50\n",
            "70/70 - 2s - loss: 9.2917e-04 - accuracy: 0.0000e+00 - val_loss: 0.0135 - val_accuracy: 0.0030\n",
            "Epoch 5/50\n",
            "70/70 - 2s - loss: 0.0012 - accuracy: 0.0000e+00 - val_loss: 0.0169 - val_accuracy: 0.0030\n",
            "Epoch 6/50\n",
            "70/70 - 2s - loss: 8.5588e-04 - accuracy: 0.0000e+00 - val_loss: 0.0084 - val_accuracy: 0.0030\n",
            "Epoch 7/50\n",
            "70/70 - 2s - loss: 5.7937e-04 - accuracy: 0.0000e+00 - val_loss: 0.0037 - val_accuracy: 0.0030\n",
            "Epoch 8/50\n",
            "70/70 - 2s - loss: 7.1008e-04 - accuracy: 0.0000e+00 - val_loss: 0.0085 - val_accuracy: 0.0030\n",
            "Epoch 9/50\n",
            "70/70 - 2s - loss: 6.0680e-04 - accuracy: 0.0000e+00 - val_loss: 0.0101 - val_accuracy: 0.0030\n",
            "Epoch 10/50\n",
            "70/70 - 2s - loss: 7.6740e-04 - accuracy: 0.0000e+00 - val_loss: 0.0096 - val_accuracy: 0.0030\n",
            "Epoch 11/50\n",
            "70/70 - 2s - loss: 4.9669e-04 - accuracy: 0.0000e+00 - val_loss: 0.0065 - val_accuracy: 0.0030\n",
            "Epoch 12/50\n",
            "70/70 - 2s - loss: 4.3629e-04 - accuracy: 0.0000e+00 - val_loss: 0.0031 - val_accuracy: 0.0030\n",
            "Epoch 13/50\n",
            "70/70 - 2s - loss: 4.4977e-04 - accuracy: 0.0000e+00 - val_loss: 0.0073 - val_accuracy: 0.0030\n",
            "Epoch 14/50\n",
            "70/70 - 2s - loss: 3.9819e-04 - accuracy: 0.0000e+00 - val_loss: 0.0033 - val_accuracy: 0.0030\n",
            "Epoch 15/50\n",
            "70/70 - 2s - loss: 3.9183e-04 - accuracy: 0.0000e+00 - val_loss: 0.0061 - val_accuracy: 0.0030\n",
            "Epoch 16/50\n",
            "70/70 - 2s - loss: 4.5099e-04 - accuracy: 0.0000e+00 - val_loss: 0.0027 - val_accuracy: 0.0030\n",
            "Epoch 17/50\n",
            "70/70 - 2s - loss: 3.4768e-04 - accuracy: 0.0000e+00 - val_loss: 0.0077 - val_accuracy: 0.0030\n",
            "Epoch 18/50\n",
            "70/70 - 2s - loss: 3.7524e-04 - accuracy: 0.0000e+00 - val_loss: 0.0030 - val_accuracy: 0.0030\n",
            "Epoch 19/50\n",
            "70/70 - 2s - loss: 4.4191e-04 - accuracy: 0.0000e+00 - val_loss: 0.0031 - val_accuracy: 0.0030\n",
            "Epoch 20/50\n",
            "70/70 - 2s - loss: 3.5921e-04 - accuracy: 0.0000e+00 - val_loss: 0.0036 - val_accuracy: 0.0030\n",
            "Epoch 21/50\n",
            "70/70 - 2s - loss: 3.7237e-04 - accuracy: 0.0000e+00 - val_loss: 0.0035 - val_accuracy: 0.0030\n",
            "Epoch 22/50\n",
            "70/70 - 2s - loss: 3.2460e-04 - accuracy: 0.0000e+00 - val_loss: 0.0092 - val_accuracy: 0.0030\n",
            "Epoch 23/50\n",
            "70/70 - 2s - loss: 3.4172e-04 - accuracy: 0.0000e+00 - val_loss: 0.0019 - val_accuracy: 0.0030\n",
            "Epoch 24/50\n",
            "70/70 - 2s - loss: 3.3997e-04 - accuracy: 0.0000e+00 - val_loss: 0.0042 - val_accuracy: 0.0030\n",
            "Epoch 25/50\n",
            "70/70 - 2s - loss: 4.2275e-04 - accuracy: 0.0000e+00 - val_loss: 0.0058 - val_accuracy: 0.0030\n",
            "Epoch 26/50\n",
            "70/70 - 2s - loss: 3.3580e-04 - accuracy: 0.0000e+00 - val_loss: 0.0076 - val_accuracy: 0.0030\n",
            "Epoch 27/50\n",
            "70/70 - 2s - loss: 3.2850e-04 - accuracy: 0.0000e+00 - val_loss: 0.0037 - val_accuracy: 0.0030\n",
            "Epoch 28/50\n",
            "70/70 - 2s - loss: 3.0543e-04 - accuracy: 0.0000e+00 - val_loss: 0.0040 - val_accuracy: 0.0030\n",
            "Epoch 29/50\n",
            "70/70 - 2s - loss: 2.6350e-04 - accuracy: 0.0000e+00 - val_loss: 0.0036 - val_accuracy: 0.0030\n",
            "Epoch 30/50\n",
            "70/70 - 2s - loss: 2.3945e-04 - accuracy: 0.0000e+00 - val_loss: 0.0041 - val_accuracy: 0.0030\n",
            "Epoch 31/50\n",
            "70/70 - 2s - loss: 2.4354e-04 - accuracy: 0.0000e+00 - val_loss: 0.0046 - val_accuracy: 0.0030\n",
            "Epoch 32/50\n",
            "70/70 - 2s - loss: 2.4262e-04 - accuracy: 0.0000e+00 - val_loss: 0.0050 - val_accuracy: 0.0030\n",
            "Epoch 33/50\n",
            "70/70 - 2s - loss: 2.2113e-04 - accuracy: 0.0000e+00 - val_loss: 0.0016 - val_accuracy: 0.0030\n",
            "Epoch 34/50\n",
            "70/70 - 2s - loss: 1.8820e-04 - accuracy: 0.0000e+00 - val_loss: 0.0025 - val_accuracy: 0.0030\n",
            "Epoch 35/50\n",
            "70/70 - 2s - loss: 1.7335e-04 - accuracy: 0.0000e+00 - val_loss: 0.0030 - val_accuracy: 0.0030\n",
            "Epoch 36/50\n",
            "70/70 - 2s - loss: 1.5838e-04 - accuracy: 0.0000e+00 - val_loss: 0.0026 - val_accuracy: 0.0030\n",
            "Epoch 37/50\n",
            "70/70 - 2s - loss: 1.3941e-04 - accuracy: 0.0000e+00 - val_loss: 0.0046 - val_accuracy: 0.0030\n",
            "Epoch 38/50\n",
            "70/70 - 2s - loss: 1.3193e-04 - accuracy: 0.0000e+00 - val_loss: 0.0023 - val_accuracy: 0.0030\n",
            "Epoch 39/50\n",
            "70/70 - 2s - loss: 1.1638e-04 - accuracy: 0.0000e+00 - val_loss: 0.0029 - val_accuracy: 0.0030\n",
            "Epoch 40/50\n",
            "70/70 - 2s - loss: 1.4992e-04 - accuracy: 0.0000e+00 - val_loss: 0.0016 - val_accuracy: 0.0030\n",
            "Epoch 41/50\n",
            "70/70 - 2s - loss: 9.4589e-05 - accuracy: 0.0000e+00 - val_loss: 0.0022 - val_accuracy: 0.0030\n",
            "Epoch 42/50\n",
            "70/70 - 2s - loss: 1.2114e-04 - accuracy: 0.0000e+00 - val_loss: 0.0037 - val_accuracy: 0.0030\n",
            "Epoch 43/50\n",
            "70/70 - 2s - loss: 1.2728e-04 - accuracy: 0.0000e+00 - val_loss: 0.0031 - val_accuracy: 0.0030\n",
            "Epoch 44/50\n",
            "70/70 - 2s - loss: 9.3337e-05 - accuracy: 0.0000e+00 - val_loss: 0.0036 - val_accuracy: 0.0030\n",
            "Epoch 45/50\n",
            "70/70 - 2s - loss: 1.0270e-04 - accuracy: 0.0000e+00 - val_loss: 0.0025 - val_accuracy: 0.0030\n",
            "Epoch 46/50\n",
            "70/70 - 2s - loss: 1.2471e-04 - accuracy: 0.0000e+00 - val_loss: 0.0031 - val_accuracy: 0.0030\n",
            "Epoch 47/50\n",
            "70/70 - 2s - loss: 8.9232e-05 - accuracy: 0.0000e+00 - val_loss: 0.0025 - val_accuracy: 0.0030\n",
            "Epoch 48/50\n",
            "70/70 - 2s - loss: 9.0654e-05 - accuracy: 0.0000e+00 - val_loss: 0.0029 - val_accuracy: 0.0030\n",
            "Epoch 49/50\n",
            "70/70 - 2s - loss: 1.1790e-04 - accuracy: 0.0000e+00 - val_loss: 0.0027 - val_accuracy: 0.0030\n",
            "Epoch 50/50\n",
            "70/70 - 2s - loss: 1.1708e-04 - accuracy: 0.0000e+00 - val_loss: 0.0022 - val_accuracy: 0.0030\n"
          ],
          "name": "stdout"
        },
        {
          "output_type": "execute_result",
          "data": {
            "text/plain": [
              "<tensorflow.python.keras.callbacks.History at 0x7f4e900483c8>"
            ]
          },
          "metadata": {
            "tags": []
          },
          "execution_count": 10
        }
      ]
    },
    {
      "cell_type": "code",
      "metadata": {
        "id": "5BFgADBplB4h"
      },
      "source": [
        "train_predict=model.predict(X_train)\n",
        "test_predict=model.predict(X_test)"
      ],
      "execution_count": 11,
      "outputs": []
    },
    {
      "cell_type": "code",
      "metadata": {
        "id": "YKErv0Qil3_Y"
      },
      "source": [
        "##Transformback to original form --- rescaling\n",
        "train_predict=scaler.inverse_transform(train_predict)\n",
        "test_predict=scaler.inverse_transform(test_predict)"
      ],
      "execution_count": 12,
      "outputs": []
    },
    {
      "cell_type": "code",
      "metadata": {
        "id": "PEuZTGgrmWEi"
      },
      "source": [
        "\n",
        "### Plotting \n",
        "# shift train predictions for plotting\n",
        "look_back=100\n",
        "trainPredictPlot = numpy.empty_like(df1)\n",
        "trainPredictPlot[:, :] = np.nan\n",
        "trainPredictPlot[look_back:len(train_predict)+look_back, :] = train_predict\n",
        "# shift test predictions for plotting\n",
        "testPredictPlot = numpy.empty_like(df1)\n",
        "testPredictPlot[:, :] = numpy.nan\n",
        "testPredictPlot[len(train_predict)+(look_back*2)+1:len(df1)-1, :] = test_predict\n"
      ],
      "execution_count": 13,
      "outputs": []
    },
    {
      "cell_type": "code",
      "metadata": {
        "colab": {
          "base_uri": "https://localhost:8080/"
        },
        "id": "FTIpeDIgJzmD",
        "outputId": "a25c66db-4a33-400a-bac1-00302d515986"
      },
      "source": [
        "\r\n",
        "len(test_data)"
      ],
      "execution_count": 14,
      "outputs": [
        {
          "output_type": "execute_result",
          "data": {
            "text/plain": [
              "431"
            ]
          },
          "metadata": {
            "tags": []
          },
          "execution_count": 14
        }
      ]
    },
    {
      "cell_type": "code",
      "metadata": {
        "id": "dO63e8Jzn6Ix"
      },
      "source": [
        "x_input = test_data[331:].reshape(1,-1)\n"
      ],
      "execution_count": 15,
      "outputs": []
    },
    {
      "cell_type": "code",
      "metadata": {
        "id": "djLetqdSoKhS"
      },
      "source": [
        "temp_input = list(x_input)\n",
        "temp_input = temp_input[0].tolist()"
      ],
      "execution_count": 16,
      "outputs": []
    },
    {
      "cell_type": "code",
      "metadata": {
        "id": "EV8cPFLlojjT"
      },
      "source": [
        "# demonstrate prediction for next 10 days\n",
        "from numpy import array\n",
        "\n",
        "lst_output=[]\n",
        "n_steps=100\n",
        "i=0\n",
        "while(i<10):\n",
        "    \n",
        "    if(len(temp_input)>100):\n",
        "        #print(temp_input)\n",
        "        x_input=np.array(temp_input[1:])\n",
        "        x_input=x_input.reshape(1,-1)\n",
        "        x_input = x_input.reshape((1, n_steps, 1))\n",
        "        #print(x_input)\n",
        "        yhat = model.predict(x_input, verbose=0)\n",
        "        \n",
        "        temp_input.extend(yhat[0].tolist())\n",
        "        temp_input=temp_input[1:]\n",
        "        #print(temp_input)\n",
        "        lst_output.extend(yhat.tolist())\n",
        "        i=i+1\n",
        "    else:\n",
        "        x_input = x_input.reshape((1, n_steps,1))\n",
        "        yhat = model.predict(x_input, verbose=0)\n",
        "        \n",
        "        temp_input.extend(yhat[0].tolist())\n",
        "        \n",
        "        lst_output.extend(yhat.tolist())\n",
        "        i=i+1\n",
        "    \n",
        "\n"
      ],
      "execution_count": 17,
      "outputs": []
    },
    {
      "cell_type": "code",
      "metadata": {
        "id": "TkxjV0Y0oqug"
      },
      "source": [
        "\n",
        "day_new=np.arange(1,101) #testdata 100indexes\n",
        "day_pred=np.arange(101,111) #101-131-predicted "
      ],
      "execution_count": 18,
      "outputs": []
    },
    {
      "cell_type": "code",
      "metadata": {
        "id": "A1qxHf7_Ppdr"
      },
      "source": [
        ""
      ],
      "execution_count": 18,
      "outputs": []
    },
    {
      "cell_type": "code",
      "metadata": {
        "id": "hwiNJ-MqpZu1",
        "colab": {
          "base_uri": "https://localhost:8080/",
          "height": 282
        },
        "outputId": "ca613f03-9919-4552-8807-94d40382fc08"
      },
      "source": [
        "\n",
        "plt.plot(day_new,scaler.inverse_transform(df1[1131:]))\n",
        "plt.plot(day_pred,scaler.inverse_transform(lst_output))\n"
      ],
      "execution_count": 19,
      "outputs": [
        {
          "output_type": "execute_result",
          "data": {
            "text/plain": [
              "[<matplotlib.lines.Line2D at 0x7f4e3c63c278>]"
            ]
          },
          "metadata": {
            "tags": []
          },
          "execution_count": 19
        },
        {
          "output_type": "display_data",
          "data": {
            "image/png": "[encoded data removed]",
            "text/plain": [
              "<Figure size 432x288 with 1 Axes>"
            ]
          },
          "metadata": {
            "tags": [],
            "needs_background": "light"
          }
        }
      ]
    },
    {
      "cell_type": "code",
      "metadata": {
        "id": "IUN6BnLNpbp7",
        "colab": {
          "base_uri": "https://localhost:8080/",
          "height": 265
        },
        "outputId": "e2e82b18-8faf-4671-e589-21c241cf9318"
      },
      "source": [
        "df3=df1.tolist()\n",
        "df3.extend(lst_output)\n",
        "plt.plot(df3[1129:])\n",
        "plt.savefig('foo.png')"
      ],
      "execution_count": 20,
      "outputs": [
        {
          "output_type": "display_data",
          "data": {
            "image/png": "[encoded data removed]",
            "text/plain": [
              "<Figure size 432x288 with 1 Axes>"
            ]
          },
          "metadata": {
            "tags": [],
            "needs_background": "light"
          }
        }
      ]
    },
    {
      "cell_type": "code",
      "metadata": {
        "id": "5mHjKaceCf2K"
      },
      "source": [
        ""
      ],
      "execution_count": 20,
      "outputs": []
    },
    {
      "cell_type": "code",
      "metadata": {
        "id": "EeLM7TSNEhKR"
      },
      "source": [
        ""
      ],
      "execution_count": 20,
      "outputs": []
    }
  ]
}